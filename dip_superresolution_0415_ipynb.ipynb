{
  "cells": [
    {
      "cell_type": "markdown",
      "metadata": {
        "id": "5RZyjuSsDXd7"
      },
      "source": [
        "Code for **super-resolution** (figures $1$ and $5$ from main paper).. Change `factor` to $8$ to reproduce images from fig. $9$ from supmat.\n",
        "\n",
        "You can play with parameters and see how they affect the result. "
      ]
    },
    {
      "cell_type": "code",
      "execution_count": null,
      "metadata": {
        "colab": {
          "base_uri": "https://localhost:8080/"
        },
        "id": "OjFEESV-DXd-",
        "outputId": "5654f928-a0e6-472a-e796-90ce764adc63"
      },
      "outputs": [],
      "source": [
        "\"\"\"\n",
        "*Uncomment if running on colab* \n",
        "Set Runtime -> Change runtime type -> Under Hardware Accelerator select GPU in Google Colab \n",
        "\"\"\"\n",
        "\n",
        "'''\n",
        "!git clone https://github.com/wei-tianyu/deep-remote-prior\n",
        "!mv deep-remote-prior/* ./\n",
        "'''"
      ]
    },
    {
      "cell_type": "code",
      "execution_count": null,
      "metadata": {
        "colab": {
          "base_uri": "https://localhost:8080/"
        },
        "id": "XObRXm3TFerg",
        "outputId": "a7476349-f21f-4be3-9b82-f977aca53270"
      },
      "outputs": [],
      "source": [
        "from tensorflow.python.client import device_lib \n",
        "device_lib.list_local_devices()"
      ]
    },
    {
      "cell_type": "markdown",
      "metadata": {
        "id": "s9GF5mCSDXd_"
      },
      "source": [
        "# Import libs"
      ]
    },
    {
      "cell_type": "code",
      "execution_count": null,
      "metadata": {
        "id": "LX102uh6DXeA"
      },
      "outputs": [],
      "source": [
        "from __future__ import print_function\n",
        "import matplotlib.pyplot as plt\n",
        "%matplotlib inline\n",
        "import cv2\n",
        "import argparse\n",
        "import os\n",
        "# os.environ['CUDA_VISIBLE_DEVICES'] = '1'\n",
        "\n",
        "import numpy as np\n",
        "import time\n",
        "from models import *\n",
        "\n",
        "import torch\n",
        "import torch.optim\n",
        "\n",
        "from skimage.metrics import peak_signal_noise_ratio\n",
        "from models.downsampler import Downsampler\n",
        "\n",
        "from utils.sr_utils import *\n",
        "\n",
        "#torch.backends.cudnn.enabled = True\n",
        "#torch.backends.cudnn.benchmark =True\n",
        "dtype = torch.FloatTensor\n",
        "\n",
        "imsize = -1 \n",
        "\n",
        "#factor is important!!!\n",
        "factor = 4 # 8\n",
        "#enforse_div32 = 'CROP' # we usually need the dimensions to be divisible by a power of two (32 in this case)\n",
        "enforse_div32 = None\n",
        "PLOT = True\n",
        "\n",
        "# To produce images from the paper we took *_GT.png images from LapSRN viewer for corresponding factor,\n",
        "# e.g. x4/zebra_GT.png for factor=4, and x8/zebra_GT.png for factor=8 \n",
        "path_to_image = '545test_set/sr/butterfly.png'\n",
        "picname = 'bbb'\n",
        "\n"
      ]
    },
    {
      "cell_type": "markdown",
      "metadata": {
        "id": "Lit5Tq5LDXeA"
      },
      "source": [
        "# Load image and baselines"
      ]
    },
    {
      "cell_type": "code",
      "execution_count": null,
      "metadata": {
        "colab": {
          "base_uri": "https://localhost:8080/",
          "height": 312
        },
        "id": "faSIDrPUDXeA",
        "outputId": "1df06626-da26-4600-ec92-24ecdbd4f45d"
      },
      "outputs": [],
      "source": [
        "# Starts here\n",
        "imgs = load_LR_HR_imgs_sr(path_to_image , imsize, factor, enforse_div32)\n",
        "\n",
        "imgs['bicubic_np'], imgs['sharp_np'], imgs['nearest_np'] = get_baselines(imgs['LR_pil'], imgs['HR_pil'])\n",
        "\n",
        "if PLOT:\n",
        "    plot_image_grid([imgs['HR_np'], imgs['bicubic_np'], imgs['sharp_np'], imgs['nearest_np']], 4,12);\n",
        "    print ('PSNR bicubic: %.4f   PSNR nearest: %.4f' %  (\n",
        "                                        peak_signal_noise_ratio(imgs['HR_np'], imgs['bicubic_np']), \n",
        "                                        peak_signal_noise_ratio(imgs['HR_np'], imgs['nearest_np'])))"
      ]
    },
    {
      "cell_type": "markdown",
      "metadata": {
        "id": "l4sukU49DXeB"
      },
      "source": [
        "# Set up parameters and net"
      ]
    },
    {
      "cell_type": "code",
      "execution_count": null,
      "metadata": {
        "id": "cbgmliGnDXeB"
      },
      "outputs": [],
      "source": [
        "input_depth = 32\n",
        " \n",
        "INPUT =     'noise'\n",
        "pad   =     'reflection'\n",
        "OPT_OVER =  'net'\n",
        "KERNEL_TYPE='lanczos2'\n",
        "\n",
        "LR = 0.01\n",
        "tv_weight = 0.0\n",
        "\n",
        "OPTIMIZER = 'adam'\n",
        "\n",
        "'''\n",
        "if factor == 4: \n",
        "    num_iter = 2000\n",
        "    reg_noise_std = 0.02\n",
        "elif factor == 2:\n",
        "    num_iter = 1500\n",
        "    reg_noise_std = 0.01\n",
        "elif factor == 8:\n",
        "    num_iter = 4000\n",
        "    reg_noise_std = 0.05\n",
        "else:\n",
        "    assert False, 'We did not experiment with other factors'\n",
        "'''\n",
        "\n",
        "num_iter = 2000\n",
        "reg_noise_std = 0"
      ]
    },
    {
      "cell_type": "code",
      "execution_count": null,
      "metadata": {
        "id": "S1ZL1yJFDXeC"
      },
      "outputs": [],
      "source": [
        "net_input = get_noise(input_depth, INPUT, (imgs['HR_pil'].size[1], imgs['HR_pil'].size[0])).type(dtype).detach()\n",
        "\n",
        "NET_TYPE = 'skip' # UNet, ResNet\n",
        "net = get_net(input_depth, 'skip', pad,\n",
        "              skip_n33d=128, \n",
        "              skip_n33u=128, \n",
        "              skip_n11=4,\n",
        "              num_scales=5,\n",
        "              upsample_mode='bilinear').type(dtype)\n",
        "\n",
        "# Losses\n",
        "mse = torch.nn.MSELoss().type(dtype)\n",
        "\n",
        "#using original code\n",
        "#img_bbb_pil, img_bbb_np = get_image('/content/corrupt_butterfly.png', -1)\n",
        "#img_LR_var = np_to_torch(img_bbb_np).type(dtype)\n",
        "\n",
        "#using corrupted image from DeepRED code\n",
        "img_LR_var = np_to_torch(imgs['LR_np']).type(dtype)\n",
        "\n",
        "downsampler = Downsampler(n_planes=3, factor=factor, kernel_type=KERNEL_TYPE, phase=0.5, preserve_size=True).type(dtype)"
      ]
    },
    {
      "cell_type": "markdown",
      "metadata": {
        "id": "noDD4daFDXeC"
      },
      "source": [
        "# Define closure and optimize"
      ]
    },
    {
      "cell_type": "code",
      "execution_count": null,
      "metadata": {
        "colab": {
          "base_uri": "https://localhost:8080/",
          "height": 1000
        },
        "id": "xKilNtH7DXeD",
        "outputId": "0d30c9de-790f-4aa9-f0f3-d39999ff7a67"
      },
      "outputs": [],
      "source": [
        "import torchvision.transforms as transforms\n",
        "\n",
        "filename_lr = 'dip_psnr_lr_' + picname + '.txt'\n",
        "filename_hr = 'dip_psnr_hr_' + picname + '.txt'\n",
        "filename_loss = 'dip_psnr_loss_' + picname + '.txt'\n",
        "filename_time = 'dip_time_' + picname + '.txt'\n",
        "print(filename_lr)\n",
        "def closure():\n",
        "    global i, net_input, start\n",
        "    if (i == 1):\n",
        "      start = time.time()\n",
        "    if reg_noise_std > 0:\n",
        "        net_input = net_input_saved + (noise.normal_() * reg_noise_std)\n",
        "\n",
        "    out_HR = net(net_input)\n",
        "    out_LR = downsampler(out_HR)\n",
        "\n",
        "    total_loss = mse(out_LR, img_LR_var) \n",
        "    \n",
        "    if tv_weight > 0:\n",
        "        total_loss += tv_weight * tv_loss(out_HR)\n",
        "        \n",
        "    total_loss.backward()\n",
        "    time_consuming = time.time() - start\n",
        "    # Log\n",
        "\n",
        "    #测试要计算的中心区域\n",
        "    #img_HR_crop_np_test = imgs['HR_np'][:,50:210, 120:390]\n",
        "    #plot_image_grid([np.clip(img_HR_crop_np_test, 0, 1)], factor=13, nrow=1)\n",
        "\n",
        "    #计算PSNR\n",
        "    psnr_LR = peak_signal_noise_ratio(imgs['LR_np'], torch_to_np(out_LR))\n",
        "    psnr_HR = peak_signal_noise_ratio(imgs['HR_np'], torch_to_np(out_HR))\n",
        "    \n",
        "    #计算中心裁剪的PSNR\n",
        "    #img_HR_crop_np = imgs['HR_np'][:,50:210, 120:390]\n",
        "    #out_HR_npnp = torch_to_np(out_HR)\n",
        "    #out_HR_crop_np = out_HR_npnp[:,50:210, 120:390]\n",
        "    #psnr_HR = peak_signal_noise_ratio(img_HR_crop_np, out_HR_crop_np)   #中心裁剪的PSNR\n",
        "    #效果不好\n",
        "\n",
        "    #image_pil = np_to_pil(imgs['HR_np'])\n",
        "    #image_out_HR_pil = np_to_pil(torch_to_np(out_HR))\n",
        "    #image_crop = crop_image(image_pil, 1)\n",
        "    #image_out_HR_crop = crop_image(image_out_HR_pil, 1)\n",
        "    #image_crop_np = pil_to_np(image_crop)\n",
        "    #out_HR_crop_np = pil_to_np(image_out_HR_crop)\n",
        "    #psnr_HR = peak_signal_noise_ratio(image_crop_np, out_HR_crop_np)\n",
        "\n",
        "\n",
        "    print ('Iteration %05d    PSNR_LR %.3f   PSNR_HR %.3f' % (i, psnr_LR, psnr_HR), '\\r', end='')\n",
        "\n",
        "    #plot_image_grid([np.clip(out_HR_np, 0, 1)], factor=13, nrow=1)                \n",
        "    # History\n",
        "    psnr_history.append([psnr_LR, psnr_HR])\n",
        "    \n",
        "    if PLOT and i % 100 == 0:\n",
        "        out_HR_np = torch_to_np(out_HR)\n",
        "        #out_HR_np_crop = out_HR_np[:,100:200, 300:400]\n",
        "        plot_image_grid([imgs['HR_np'], imgs['bicubic_np'], np.clip(out_HR_np, 0, 1)], factor=13, nrow=3)\n",
        "        # psrn_noise, psrn_gt, psrn_gt_sm, loss curve\n",
        "        with open(filename_lr, 'a') as f:\n",
        "          f.write(str(psnr_LR)+\"\\t\")\n",
        "          #f.write(\"\\t\")\n",
        "        with open(filename_hr, 'a') as f:\n",
        "          f.write(str(psnr_HR)+\"\\t\")\n",
        "          #f.write(\"\\t\")\n",
        "        with open(filename_loss, 'a') as f:\n",
        "          f.write(str(total_loss.item())+\"\\t\")\n",
        "        with open(filename_time, 'a') as f:\n",
        "          f.write(str(time_consuming)+\"\\t\")\n",
        "          #f.write(\"\\t\")\n",
        "        print (i, \"runtime:\", time_consuming)\n",
        "        print ('Iteration %05d    Loss %f   psnr_LR: %f   psnr_HR: %f' % (i, total_loss.item(), psnr_LR, psnr_HR),'\\n')\n",
        "    i += 1\n",
        "    \n",
        "    return total_loss\n",
        "\n",
        "psnr_history = [] \n",
        "net_input_saved = net_input.detach().clone()\n",
        "noise = net_input.detach().clone()\n",
        "\n",
        "i = 1\n",
        "p = get_params(OPT_OVER, net, net_input)\n",
        "optimize(OPTIMIZER, p, closure, LR, num_iter)"
      ]
    },
    {
      "cell_type": "code",
      "execution_count": null,
      "metadata": {
        "colab": {
          "base_uri": "https://localhost:8080/",
          "height": 957
        },
        "id": "J2L93Oj_DXeD",
        "outputId": "4d094383-c3e4-471e-ec6e-0c2086749d2f"
      },
      "outputs": [],
      "source": [
        "out_HR_np = np.clip(torch_to_np(net(net_input)), 0, 1)\n",
        "result_deep_prior = put_in_center(out_HR_np, imgs['orig_np'].shape[1:])\n",
        "\n",
        "# For the paper we acually took `_bicubic.png` files from LapSRN viewer and used `result_deep_prior` as our result\n",
        "plot_image_grid([imgs['HR_np'],\n",
        "                 imgs['bicubic_np'],\n",
        "                 out_HR_np], factor=4, nrow=1);"
      ]
    },
    {
      "cell_type": "code",
      "execution_count": null,
      "metadata": {
        "colab": {
          "base_uri": "https://localhost:8080/"
        },
        "id": "3nrpExmhDXeE",
        "outputId": "c11dcf25-b435-42d5-d467-bad967e4fd69"
      },
      "outputs": [],
      "source": [
        "print(i)"
      ]
    }
  ],
  "metadata": {
    "accelerator": "GPU",
    "colab": {
      "collapsed_sections": [],
      "machine_shape": "hm",
      "name": "“dip_superresolution_0415.ipynb”的副本",
      "provenance": []
    },
    "kernelspec": {
      "display_name": "Python 3",
      "language": "python",
      "name": "python3"
    },
    "language_info": {
      "codemirror_mode": {
        "name": "ipython",
        "version": 3
      },
      "file_extension": ".py",
      "mimetype": "text/x-python",
      "name": "python",
      "nbconvert_exporter": "python",
      "pygments_lexer": "ipython3",
      "version": "3.7.11"
    }
  },
  "nbformat": 4,
  "nbformat_minor": 0
}
